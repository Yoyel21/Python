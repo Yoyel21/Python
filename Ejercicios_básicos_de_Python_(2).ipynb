{
  "nbformat": 4,
  "nbformat_minor": 0,
  "metadata": {
    "colab": {
      "provenance": [],
      "toc_visible": true,
      "authorship_tag": "ABX9TyP9OsVcwVLMCOxDxKpWVt8f",
      "include_colab_link": true
    },
    "kernelspec": {
      "name": "python3",
      "display_name": "Python 3"
    },
    "language_info": {
      "name": "python"
    }
  },
  "cells": [
    {
      "cell_type": "markdown",
      "metadata": {
        "id": "view-in-github",
        "colab_type": "text"
      },
      "source": [
        "<a href=\"https://colab.research.google.com/github/Yoyel21/Python/blob/main/Ejercicios_b%C3%A1sicos_de_Python_(2).ipynb\" target=\"_parent\"><img src=\"https://colab.research.google.com/assets/colab-badge.svg\" alt=\"Open In Colab\"/></a>"
      ]
    },
    {
      "cell_type": "markdown",
      "source": [
        "1. Cree una lista denominada \"islas\" con los nombres de las Islas Canarias (sin La Graciosa)"
      ],
      "metadata": {
        "id": "S-Rb0t1drjTD"
      }
    },
    {
      "cell_type": "code",
      "source": [
        "islas = [\"La Palma\", \"Tenerife\", \"Lanzarote\", \"Gran Canaria\", \"La Gomera\", \"El Hierro\", \"Fuerteventura\"]\n"
      ],
      "metadata": {
        "id": "wO7FD5wGrph8"
      },
      "execution_count": 76,
      "outputs": []
    },
    {
      "cell_type": "markdown",
      "source": [
        "2. Muestre el tipo de dato de \"islas\""
      ],
      "metadata": {
        "id": "N9Wqx-OLuH1Q"
      }
    },
    {
      "cell_type": "code",
      "source": [
        "print(type(islas))"
      ],
      "metadata": {
        "colab": {
          "base_uri": "https://localhost:8080/"
        },
        "id": "NaAFOJwNuM2H",
        "outputId": "b19b42dc-08cd-4728-f47b-773e7802c4a8"
      },
      "execution_count": 15,
      "outputs": [
        {
          "output_type": "stream",
          "name": "stdout",
          "text": [
            "<class 'list'>\n"
          ]
        }
      ]
    },
    {
      "cell_type": "markdown",
      "source": [
        "3. ¿Cuántos elementos tiene la lista?"
      ],
      "metadata": {
        "id": "QYexHidnuaec"
      }
    },
    {
      "cell_type": "code",
      "source": [
        "len(islas)"
      ],
      "metadata": {
        "colab": {
          "base_uri": "https://localhost:8080/"
        },
        "id": "X7_J0JoxueyJ",
        "outputId": "2f95de0b-fac8-4f6b-efda-1228a550254b"
      },
      "execution_count": 16,
      "outputs": [
        {
          "output_type": "execute_result",
          "data": {
            "text/plain": [
              "7"
            ]
          },
          "metadata": {},
          "execution_count": 16
        }
      ]
    },
    {
      "cell_type": "markdown",
      "source": [
        "4. Muestre el primer elemento de la lista. Muestre después el cuarto elemento de la lista"
      ],
      "metadata": {
        "id": "tyrxbXJUurYB"
      }
    },
    {
      "cell_type": "code",
      "source": [
        "print(islas[0])\n",
        "print(islas[3])"
      ],
      "metadata": {
        "colab": {
          "base_uri": "https://localhost:8080/"
        },
        "id": "07KPkAruuxHh",
        "outputId": "cd2d44b9-dcf5-4f4c-b6b3-4a1a29ea0408"
      },
      "execution_count": 18,
      "outputs": [
        {
          "output_type": "stream",
          "name": "stdout",
          "text": [
            "La Palma\n",
            "Gran Canaria\n"
          ]
        }
      ]
    },
    {
      "cell_type": "markdown",
      "source": [
        "5. Muestre el tipo de dato del primer elemento de la lista"
      ],
      "metadata": {
        "id": "2HLtYzEIvAKI"
      }
    },
    {
      "cell_type": "code",
      "source": [
        "print(type(islas[0]))"
      ],
      "metadata": {
        "colab": {
          "base_uri": "https://localhost:8080/"
        },
        "id": "kx4Ef8EgvBbI",
        "outputId": "fa4d2efa-1078-4a6d-84af-b2c979528fa0"
      },
      "execution_count": 19,
      "outputs": [
        {
          "output_type": "stream",
          "name": "stdout",
          "text": [
            "<class 'str'>\n"
          ]
        }
      ]
    },
    {
      "cell_type": "markdown",
      "source": [
        "6. Ordene la lista \"islas\" por orden alfabético y muéstrela en pantalla"
      ],
      "metadata": {
        "id": "yDlts5q1vFuZ"
      }
    },
    {
      "cell_type": "code",
      "source": [
        "sorted(islas)"
      ],
      "metadata": {
        "colab": {
          "base_uri": "https://localhost:8080/"
        },
        "id": "pUxvSmVQvKGa",
        "outputId": "fac0a7cd-3d25-413f-dc71-41432a10b06e"
      },
      "execution_count": 83,
      "outputs": [
        {
          "output_type": "execute_result",
          "data": {
            "text/plain": [
              "['El Hierro',\n",
              " 'Fuerteventura',\n",
              " 'Gran Canaria',\n",
              " 'La Gomera',\n",
              " 'La Palma',\n",
              " 'Lanzarote',\n",
              " 'Tenerife']"
            ]
          },
          "metadata": {},
          "execution_count": 83
        }
      ]
    },
    {
      "cell_type": "markdown",
      "source": [
        "7. Muestre el último elemento de la lista"
      ],
      "metadata": {
        "id": "3BSI8cegvfQw"
      }
    },
    {
      "cell_type": "code",
      "source": [
        "print(islas[6])"
      ],
      "metadata": {
        "colab": {
          "base_uri": "https://localhost:8080/"
        },
        "id": "V1Las_7Yvgko",
        "outputId": "6c9b2536-7a52-4f5a-885f-1273014f36f1"
      },
      "execution_count": 20,
      "outputs": [
        {
          "output_type": "stream",
          "name": "stdout",
          "text": [
            "Fuerteventura\n"
          ]
        }
      ]
    },
    {
      "cell_type": "markdown",
      "source": [
        "8. Muestre los tres primeros elementos de la lista"
      ],
      "metadata": {
        "id": "9JqFvmkavodB"
      }
    },
    {
      "cell_type": "code",
      "source": [
        "print(islas[0])\n",
        "print(islas[1])\n",
        "print(islas[2])"
      ],
      "metadata": {
        "colab": {
          "base_uri": "https://localhost:8080/"
        },
        "id": "pGnH05UmvpMg",
        "outputId": "2726c0fa-547c-4405-bfc6-bc72c10dcef4"
      },
      "execution_count": 21,
      "outputs": [
        {
          "output_type": "stream",
          "name": "stdout",
          "text": [
            "La Palma\n",
            "Tenerife\n",
            "Lanzarote\n"
          ]
        }
      ]
    },
    {
      "cell_type": "markdown",
      "source": [
        "9. Muestre los dos últimos elementos de la lista"
      ],
      "metadata": {
        "id": "UodBvBAKvwxA"
      }
    },
    {
      "cell_type": "code",
      "source": [
        "print(islas[5])\n",
        "print(islas[6])"
      ],
      "metadata": {
        "colab": {
          "base_uri": "https://localhost:8080/"
        },
        "id": "iFh7f-qRvzbf",
        "outputId": "2af0cd17-0394-456a-fbf9-c9a054f5cac1"
      },
      "execution_count": 22,
      "outputs": [
        {
          "output_type": "stream",
          "name": "stdout",
          "text": [
            "El Hierro\n",
            "Fuerteventura\n"
          ]
        }
      ]
    },
    {
      "cell_type": "markdown",
      "source": [
        "10. ¿qué posición ocupa \"La Gomera\" en la lista \"islas\"?"
      ],
      "metadata": {
        "id": "DmXss4n3v6S3"
      }
    },
    {
      "cell_type": "code",
      "source": [
        "islas.index(\"La Gomera\")"
      ],
      "metadata": {
        "colab": {
          "base_uri": "https://localhost:8080/"
        },
        "id": "xLpUdcJjv9O_",
        "outputId": "01930829-e00f-4176-eb27-b8f64e77200c"
      },
      "execution_count": 23,
      "outputs": [
        {
          "output_type": "execute_result",
          "data": {
            "text/plain": [
              "4"
            ]
          },
          "metadata": {},
          "execution_count": 23
        }
      ]
    },
    {
      "cell_type": "markdown",
      "source": [
        "11. Añada \"La Graciosa\" a la lista \"islas\""
      ],
      "metadata": {
        "id": "WkvOBBQfwJWX"
      }
    },
    {
      "cell_type": "code",
      "source": [
        "islas.insert(8,\"La Graciosa\")"
      ],
      "metadata": {
        "id": "3MCODkQswZtA"
      },
      "execution_count": 78,
      "outputs": []
    },
    {
      "cell_type": "markdown",
      "source": [
        "12. Compruebe si \"La Graciosa\" está en la lista \"islas\""
      ],
      "metadata": {
        "id": "6xN0mojYwiEn"
      }
    },
    {
      "cell_type": "code",
      "source": [
        "print(islas[7])"
      ],
      "metadata": {
        "colab": {
          "base_uri": "https://localhost:8080/"
        },
        "id": "_tHagxTHwkbA",
        "outputId": "e4cb156f-9f50-4555-a9df-333acdd94f27"
      },
      "execution_count": 79,
      "outputs": [
        {
          "output_type": "stream",
          "name": "stdout",
          "text": [
            "La Graciosa\n"
          ]
        }
      ]
    },
    {
      "cell_type": "markdown",
      "source": [
        "13. Elimine \"La Graciosa\" de la lista \"islas\" y compruebe si \"La Graciosa\" está en la lista \"islas\""
      ],
      "metadata": {
        "id": "hq0PVkbzwmh3"
      }
    },
    {
      "cell_type": "code",
      "source": [
        "del islas[7]"
      ],
      "metadata": {
        "id": "akYiHi8Lwo4P"
      },
      "execution_count": 80,
      "outputs": []
    },
    {
      "cell_type": "markdown",
      "source": [
        "14. Muestre los elementos de la lista de uno en uno"
      ],
      "metadata": {
        "id": "3lAmhjdwxKyO"
      }
    },
    {
      "cell_type": "code",
      "source": [
        "print(islas[0:7])"
      ],
      "metadata": {
        "colab": {
          "base_uri": "https://localhost:8080/"
        },
        "id": "2JrDJJirxNDn",
        "outputId": "66222273-c087-4303-fc3b-fae8c922dade"
      },
      "execution_count": 84,
      "outputs": [
        {
          "output_type": "stream",
          "name": "stdout",
          "text": [
            "['La Palma', 'Tenerife', 'Lanzarote', 'Gran Canaria', 'La Gomera', 'El Hierro', 'Fuerteventura']\n"
          ]
        }
      ]
    },
    {
      "cell_type": "markdown",
      "source": [
        "15. Pregunte al usuario en qué isla reside, almacénelo en la variable isla e indique al usuario \"Resides en la isla ....\""
      ],
      "metadata": {
        "id": "BJS8Y8X1xnTW"
      }
    },
    {
      "cell_type": "code",
      "source": [
        "isla = input(\"¿En qué isla resides?\")\n",
        "print(\"Resides en la isla\", isla)\n"
      ],
      "metadata": {
        "colab": {
          "base_uri": "https://localhost:8080/"
        },
        "id": "pro8-911xqUX",
        "outputId": "48706f15-b3e5-48ee-f1c2-eefc33c3d32e"
      },
      "execution_count": 117,
      "outputs": [
        {
          "output_type": "stream",
          "name": "stdout",
          "text": [
            "¿En qué isla resides?La Palma\n",
            "Resides en la isla La Palma\n"
          ]
        }
      ]
    },
    {
      "cell_type": "markdown",
      "source": [
        "16. Compruebe si la isla está en la lista de islas y muestre un mensaje indicando \"Resides en una isla de las Islas Canarias\" en caso afirmativo o \"La isla .... no pertenece a las Islas Canarias\" en caso negativo"
      ],
      "metadata": {
        "id": "o-nIUsT8yoaT"
      }
    },
    {
      "cell_type": "code",
      "source": [
        "if isla in islas: \n",
        "  print(\"Resides en una de las Islas Canarias\")\n",
        "else:\n",
        "  print(\"La isla\", isla, \"no pertenece a las Islas Canarias\")"
      ],
      "metadata": {
        "colab": {
          "base_uri": "https://localhost:8080/"
        },
        "id": "JqWxeuH0ypD7",
        "outputId": "3925705b-3d35-441e-fb15-110cb1dec8dd"
      },
      "execution_count": 118,
      "outputs": [
        {
          "output_type": "stream",
          "name": "stdout",
          "text": [
            "Resides en una de las Islas Canarias\n"
          ]
        }
      ]
    }
  ]
}